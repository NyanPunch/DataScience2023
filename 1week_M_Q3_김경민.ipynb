{
 "cells": [
  {
   "cell_type": "markdown",
   "id": "c0bd62dd",
   "metadata": {},
   "source": [
    "* Pandas를 통한 파일 저장과 불러오기\n",
    "    * to_csv(\"파일명\", index=False) : csv 파일로 저장하기\n",
    "    * read_csv(\"파일명\") : csv 파일 불러오기\n",
    "    * shape를 통한 행과 열의 수 보기\n",
    "    * head, tail, sample을 통한 일부 데이터 가져오기\n",
    "* DataFrame의 info(), describe() 등을 통한 요약과 기술통계 값 구하기\n",
    "    * info()\n",
    "    * describe()\n",
    "    * nunique()\n",
    "    * index\n",
    "    * columns\n",
    "    * values\n",
    "* Pandas의 DataFrame과 Series의 이해\n",
    "    * Series : 1차원 벡터구조\n",
    "    * DataFrame : 2차원 행렬구조\n",
    "* 색인하기\n",
    "    * [컬럼]\n",
    "    * .loc[행]\n",
    "    * .loc[행, 열]\n",
    "    * .loc[조건식, 열]\n",
    "* DataFrame의 데이터 타입 이해하기\n",
    "    * 날짜 데이터의 변환\n",
    "* DataFrame 다루기\n",
    "    * 열(column) 인덱싱\n",
    "    * 행(index) 인덱싱\n",
    "    * 행, 열 인덱싱\n",
    "    * 정렬하기 : sort_values 사용하기\n",
    "    * 조건식 사용하기\n",
    "* 빈도수 구하기\n",
    "    * 한 개의 변수 : series.value_counts()\n",
    "    * 두 개의 변수 : pd.crosstab()\n"
   ]
  },
  {
   "cell_type": "markdown",
   "id": "f3a56a5f",
   "metadata": {},
   "source": [
    "* groupby 와 pivot_table\n",
    "    * 다양한 연산식의 사용\n",
    "    * \"a\" 컬럼값을 Groupby하여 \"b\"의 컬럼값 평균값 구하기 `df.groupby([\"a\"])[\"b\"].mean()`\n",
    "    * pivot_table로 평균값 구하기 `pd.pivot_table(df, index=\"a\")`"
   ]
  },
  {
   "cell_type": "markdown",
   "id": "54a0c9ee",
   "metadata": {},
   "source": [
    "* glob을 통한 파일 불러오기\n",
    "    * glob(경로)[0]\n",
    "    * `from glob import glob`\n",
    "     * `file_name = glob(\"data/충*\")[0]`\n",
    "     * `file_name`"
   ]
  },
  {
   "cell_type": "markdown",
   "id": "6472b910",
   "metadata": {},
   "source": [
    "### 그래프 그리기\n",
    "* 꺾은선 그래프 `plot()`\n",
    "* 막대 그래프 `plot.bar()`\n",
    "* 밀도함수 `plot.density()`\n"
   ]
  }
 ],
 "metadata": {
  "kernelspec": {
   "display_name": "Python 3 (ipykernel)",
   "language": "python",
   "name": "python3"
  },
  "language_info": {
   "codemirror_mode": {
    "name": "ipython",
    "version": 3
   },
   "file_extension": ".py",
   "mimetype": "text/x-python",
   "name": "python",
   "nbconvert_exporter": "python",
   "pygments_lexer": "ipython3",
   "version": "3.11.5"
  }
 },
 "nbformat": 4,
 "nbformat_minor": 5
}
