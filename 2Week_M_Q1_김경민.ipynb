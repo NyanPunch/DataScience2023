{
 "cells": [
  {
   "cell_type": "code",
   "execution_count": 1,
   "id": "77a8d721",
   "metadata": {
    "scrolled": true
   },
   "outputs": [
    {
     "data": {
      "text/plain": [
       "(91335, 39)"
      ]
     },
     "execution_count": 1,
     "metadata": {},
     "output_type": "execute_result"
    }
   ],
   "source": [
    "#파일 로드\n",
    "import pandas as pd\n",
    "df = pd.read_csv(\"https://raw.githubusercontent.com/corazzon/boostcourse-ds-510/master/data/medical_201909.csv.zip\", low_memory=False)\n",
    "df.shape"
   ]
  },
  {
   "cell_type": "code",
   "execution_count": 12,
   "id": "a3f3601f",
   "metadata": {},
   "outputs": [
    {
     "data": {
      "text/plain": [
       "0          경기도\n",
       "1        서울특별시\n",
       "2          경기도\n",
       "3        부산광역시\n",
       "4          경기도\n",
       "         ...  \n",
       "91330    대전광역시\n",
       "91331      경기도\n",
       "91332    부산광역시\n",
       "91333    서울특별시\n",
       "91334     충청남도\n",
       "Name: 시도명, Length: 91335, dtype: object"
      ]
     },
     "execution_count": 12,
     "metadata": {},
     "output_type": "execute_result"
    }
   ],
   "source": [
    "df[\"시도명\"]"
   ]
  },
  {
   "cell_type": "code",
   "execution_count": 22,
   "id": "9129ccf5",
   "metadata": {
    "scrolled": true
   },
   "outputs": [
    {
     "data": {
      "text/html": [
       "<div>\n",
       "<style scoped>\n",
       "    .dataframe tbody tr th:only-of-type {\n",
       "        vertical-align: middle;\n",
       "    }\n",
       "\n",
       "    .dataframe tbody tr th {\n",
       "        vertical-align: top;\n",
       "    }\n",
       "\n",
       "    .dataframe thead th {\n",
       "        text-align: right;\n",
       "    }\n",
       "</style>\n",
       "<table border=\"1\" class=\"dataframe\">\n",
       "  <thead>\n",
       "    <tr style=\"text-align: right;\">\n",
       "      <th></th>\n",
       "      <th>상가업소번호</th>\n",
       "      <th>상호명</th>\n",
       "      <th>지점명</th>\n",
       "      <th>상권업종대분류코드</th>\n",
       "      <th>상권업종대분류명</th>\n",
       "      <th>상권업종중분류코드</th>\n",
       "      <th>상권업종중분류명</th>\n",
       "      <th>상권업종소분류코드</th>\n",
       "      <th>상권업종소분류명</th>\n",
       "      <th>표준산업분류코드</th>\n",
       "      <th>...</th>\n",
       "      <th>건물관리번호</th>\n",
       "      <th>건물명</th>\n",
       "      <th>도로명주소</th>\n",
       "      <th>구우편번호</th>\n",
       "      <th>신우편번호</th>\n",
       "      <th>동정보</th>\n",
       "      <th>층정보</th>\n",
       "      <th>호정보</th>\n",
       "      <th>경도</th>\n",
       "      <th>위도</th>\n",
       "    </tr>\n",
       "  </thead>\n",
       "  <tbody>\n",
       "    <tr>\n",
       "      <th>4</th>\n",
       "      <td>20364049</td>\n",
       "      <td>더블유스토어수지점</td>\n",
       "      <td>수지점</td>\n",
       "      <td>S</td>\n",
       "      <td>의료</td>\n",
       "      <td>S02</td>\n",
       "      <td>약국/한약방</td>\n",
       "      <td>S02A01</td>\n",
       "      <td>약국</td>\n",
       "      <td>G47811</td>\n",
       "      <td>...</td>\n",
       "      <td>4146510100107120002026238</td>\n",
       "      <td>NaN</td>\n",
       "      <td>경기도 용인시 수지구 문정로 32</td>\n",
       "      <td>448170.0</td>\n",
       "      <td>16837.0</td>\n",
       "      <td>NaN</td>\n",
       "      <td>1</td>\n",
       "      <td>NaN</td>\n",
       "      <td>127.095522</td>\n",
       "      <td>37.323528</td>\n",
       "    </tr>\n",
       "    <tr>\n",
       "      <th>10</th>\n",
       "      <td>21057519</td>\n",
       "      <td>민생약국</td>\n",
       "      <td>NaN</td>\n",
       "      <td>S</td>\n",
       "      <td>의료</td>\n",
       "      <td>S02</td>\n",
       "      <td>약국/한약방</td>\n",
       "      <td>S02A01</td>\n",
       "      <td>약국</td>\n",
       "      <td>G47811</td>\n",
       "      <td>...</td>\n",
       "      <td>4889046030200780002048274</td>\n",
       "      <td>NaN</td>\n",
       "      <td>경상남도 합천군 용주면 월평길 149-35</td>\n",
       "      <td>678912.0</td>\n",
       "      <td>50212.0</td>\n",
       "      <td>NaN</td>\n",
       "      <td>NaN</td>\n",
       "      <td>NaN</td>\n",
       "      <td>128.118615</td>\n",
       "      <td>35.575962</td>\n",
       "    </tr>\n",
       "    <tr>\n",
       "      <th>15</th>\n",
       "      <td>21006553</td>\n",
       "      <td>상명약국</td>\n",
       "      <td>NaN</td>\n",
       "      <td>S</td>\n",
       "      <td>의료</td>\n",
       "      <td>S02</td>\n",
       "      <td>약국/한약방</td>\n",
       "      <td>S02A01</td>\n",
       "      <td>약국</td>\n",
       "      <td>G47811</td>\n",
       "      <td>...</td>\n",
       "      <td>4713010800103400004022515</td>\n",
       "      <td>NaN</td>\n",
       "      <td>경상북도 경주시 금성로 281</td>\n",
       "      <td>780943.0</td>\n",
       "      <td>38156.0</td>\n",
       "      <td>NaN</td>\n",
       "      <td>1</td>\n",
       "      <td>NaN</td>\n",
       "      <td>129.206670</td>\n",
       "      <td>35.842804</td>\n",
       "    </tr>\n",
       "    <tr>\n",
       "      <th>16</th>\n",
       "      <td>21026027</td>\n",
       "      <td>햇살약국</td>\n",
       "      <td>NaN</td>\n",
       "      <td>S</td>\n",
       "      <td>의료</td>\n",
       "      <td>S02</td>\n",
       "      <td>약국/한약방</td>\n",
       "      <td>S02A01</td>\n",
       "      <td>약국</td>\n",
       "      <td>G47811</td>\n",
       "      <td>...</td>\n",
       "      <td>4117310100111010002005070</td>\n",
       "      <td>샛별한양아파트</td>\n",
       "      <td>경기도 안양시 동안구 달안로 61</td>\n",
       "      <td>431719.0</td>\n",
       "      <td>14043.0</td>\n",
       "      <td>NaN</td>\n",
       "      <td>NaN</td>\n",
       "      <td>NaN</td>\n",
       "      <td>126.948953</td>\n",
       "      <td>37.396502</td>\n",
       "    </tr>\n",
       "  </tbody>\n",
       "</table>\n",
       "<p>4 rows × 39 columns</p>\n",
       "</div>"
      ],
      "text/plain": [
       "      상가업소번호        상호명  지점명 상권업종대분류코드 상권업종대분류명 상권업종중분류코드 상권업종중분류명 상권업종소분류코드  \\\n",
       "4   20364049  더블유스토어수지점  수지점         S       의료       S02   약국/한약방    S02A01   \n",
       "10  21057519       민생약국  NaN         S       의료       S02   약국/한약방    S02A01   \n",
       "15  21006553       상명약국  NaN         S       의료       S02   약국/한약방    S02A01   \n",
       "16  21026027       햇살약국  NaN         S       의료       S02   약국/한약방    S02A01   \n",
       "\n",
       "   상권업종소분류명 표준산업분류코드  ...                     건물관리번호      건물명  \\\n",
       "4        약국   G47811  ...  4146510100107120002026238      NaN   \n",
       "10       약국   G47811  ...  4889046030200780002048274      NaN   \n",
       "15       약국   G47811  ...  4713010800103400004022515      NaN   \n",
       "16       약국   G47811  ...  4117310100111010002005070  샛별한양아파트   \n",
       "\n",
       "                      도로명주소     구우편번호    신우편번호  동정보  층정보  호정보          경도  \\\n",
       "4        경기도 용인시 수지구 문정로 32  448170.0  16837.0  NaN    1  NaN  127.095522   \n",
       "10  경상남도 합천군 용주면 월평길 149-35  678912.0  50212.0  NaN  NaN  NaN  128.118615   \n",
       "15         경상북도 경주시 금성로 281  780943.0  38156.0  NaN    1  NaN  129.206670   \n",
       "16       경기도 안양시 동안구 달안로 61  431719.0  14043.0  NaN  NaN  NaN  126.948953   \n",
       "\n",
       "           위도  \n",
       "4   37.323528  \n",
       "10  35.575962  \n",
       "15  35.842804  \n",
       "16  37.396502  \n",
       "\n",
       "[4 rows x 39 columns]"
      ]
     },
     "execution_count": 22,
     "metadata": {},
     "output_type": "execute_result"
    }
   ],
   "source": [
    "# 약국 데이터만 가져오기\n",
    "df_medi = df[df[\"상권업종소분류명\"] == \"약국\"]\n",
    "df_medi.head(4)"
   ]
  },
  {
   "cell_type": "code",
   "execution_count": 23,
   "id": "21ed5b22",
   "metadata": {},
   "outputs": [
    {
     "data": {
      "text/plain": [
       "시도명\n",
       "경기도        4510\n",
       "서울특별시      3579\n",
       "부산광역시      1130\n",
       "경상남도       1017\n",
       "인천광역시      1002\n",
       "경상북도        915\n",
       "대구광역시       870\n",
       "전라북도        862\n",
       "충청남도        830\n",
       "전라남도        811\n",
       "강원도         729\n",
       "광주광역시       691\n",
       "충청북도        648\n",
       "대전광역시       603\n",
       "울산광역시       362\n",
       "제주특별자치도     226\n",
       "세종특별자치시      99\n",
       "Name: count, dtype: int64"
      ]
     },
     "execution_count": 23,
     "metadata": {},
     "output_type": "execute_result"
    }
   ],
   "source": [
    "#전국 도시별로 약국 수 확인\n",
    "df_medi[\"시도명\"].value_counts()"
   ]
  },
  {
   "cell_type": "code",
   "execution_count": 25,
   "id": "4e15e8cd",
   "metadata": {},
   "outputs": [
    {
     "data": {
      "text/plain": [
       "시도명\n",
       "경기도        0.238827\n",
       "서울특별시      0.189526\n",
       "부산광역시      0.059839\n",
       "경상남도       0.053855\n",
       "인천광역시      0.053061\n",
       "경상북도       0.048454\n",
       "대구광역시      0.046071\n",
       "전라북도       0.045647\n",
       "충청남도       0.043953\n",
       "전라남도       0.042946\n",
       "강원도        0.038604\n",
       "광주광역시      0.036592\n",
       "충청북도       0.034315\n",
       "대전광역시      0.031932\n",
       "울산광역시      0.019170\n",
       "제주특별자치도    0.011968\n",
       "세종특별자치시    0.005243\n",
       "Name: proportion, dtype: float64"
      ]
     },
     "execution_count": 25,
     "metadata": {},
     "output_type": "execute_result"
    }
   ],
   "source": [
    "#전국 약국 비율\n",
    "df_medi[\"시도명\"].value_counts(normalize=True)"
   ]
  }
 ],
 "metadata": {
  "kernelspec": {
   "display_name": "Python 3 (ipykernel)",
   "language": "python",
   "name": "python3"
  },
  "language_info": {
   "codemirror_mode": {
    "name": "ipython",
    "version": 3
   },
   "file_extension": ".py",
   "mimetype": "text/x-python",
   "name": "python",
   "nbconvert_exporter": "python",
   "pygments_lexer": "ipython3",
   "version": "3.11.5"
  }
 },
 "nbformat": 4,
 "nbformat_minor": 5
}
