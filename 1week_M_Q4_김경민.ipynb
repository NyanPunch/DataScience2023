{
 "cells": [
  {
   "cell_type": "code",
   "execution_count": 3,
   "id": "bdc4d6c8",
   "metadata": {},
   "outputs": [
    {
     "data": {
      "text/plain": [
       "'data\\\\서울특별시 강남구_생활폐기물배출량_20221019.csv'"
      ]
     },
     "execution_count": 3,
     "metadata": {},
     "output_type": "execute_result"
    }
   ],
   "source": [
    "from glob import glob\n",
    "file_name = glob(\"data/서울*\")[0]\n",
    "file_name"
   ]
  },
  {
   "cell_type": "code",
   "execution_count": 4,
   "id": "74a1c8d2",
   "metadata": {},
   "outputs": [
    {
     "data": {
      "text/html": [
       "<div>\n",
       "<style scoped>\n",
       "    .dataframe tbody tr th:only-of-type {\n",
       "        vertical-align: middle;\n",
       "    }\n",
       "\n",
       "    .dataframe tbody tr th {\n",
       "        vertical-align: top;\n",
       "    }\n",
       "\n",
       "    .dataframe thead th {\n",
       "        text-align: right;\n",
       "    }\n",
       "</style>\n",
       "<table border=\"1\" class=\"dataframe\">\n",
       "  <thead>\n",
       "    <tr style=\"text-align: right;\">\n",
       "      <th></th>\n",
       "      <th>강남구</th>\n",
       "      <th>2019년(생활폐기물)-톤</th>\n",
       "      <th>2020년(생활폐기물)-톤</th>\n",
       "    </tr>\n",
       "  </thead>\n",
       "  <tbody>\n",
       "    <tr>\n",
       "      <th>0</th>\n",
       "      <td>01월</td>\n",
       "      <td>7550</td>\n",
       "      <td>7350</td>\n",
       "    </tr>\n",
       "    <tr>\n",
       "      <th>1</th>\n",
       "      <td>02월</td>\n",
       "      <td>6387</td>\n",
       "      <td>6688</td>\n",
       "    </tr>\n",
       "    <tr>\n",
       "      <th>2</th>\n",
       "      <td>03월</td>\n",
       "      <td>7198</td>\n",
       "      <td>6973</td>\n",
       "    </tr>\n",
       "    <tr>\n",
       "      <th>3</th>\n",
       "      <td>04월</td>\n",
       "      <td>6820</td>\n",
       "      <td>6448</td>\n",
       "    </tr>\n",
       "    <tr>\n",
       "      <th>4</th>\n",
       "      <td>05월</td>\n",
       "      <td>7767</td>\n",
       "      <td>6470</td>\n",
       "    </tr>\n",
       "    <tr>\n",
       "      <th>5</th>\n",
       "      <td>06월</td>\n",
       "      <td>7275</td>\n",
       "      <td>7923</td>\n",
       "    </tr>\n",
       "    <tr>\n",
       "      <th>6</th>\n",
       "      <td>07월</td>\n",
       "      <td>8164</td>\n",
       "      <td>8015</td>\n",
       "    </tr>\n",
       "    <tr>\n",
       "      <th>7</th>\n",
       "      <td>08월</td>\n",
       "      <td>7807</td>\n",
       "      <td>7859</td>\n",
       "    </tr>\n",
       "    <tr>\n",
       "      <th>8</th>\n",
       "      <td>09월</td>\n",
       "      <td>6811</td>\n",
       "      <td>7452</td>\n",
       "    </tr>\n",
       "    <tr>\n",
       "      <th>9</th>\n",
       "      <td>10월</td>\n",
       "      <td>7222</td>\n",
       "      <td>6875</td>\n",
       "    </tr>\n",
       "    <tr>\n",
       "      <th>10</th>\n",
       "      <td>11월</td>\n",
       "      <td>7592</td>\n",
       "      <td>7337</td>\n",
       "    </tr>\n",
       "    <tr>\n",
       "      <th>11</th>\n",
       "      <td>12월</td>\n",
       "      <td>7298</td>\n",
       "      <td>6911</td>\n",
       "    </tr>\n",
       "  </tbody>\n",
       "</table>\n",
       "</div>"
      ],
      "text/plain": [
       "    강남구  2019년(생활폐기물)-톤  2020년(생활폐기물)-톤\n",
       "0   01월            7550            7350\n",
       "1   02월            6387            6688\n",
       "2   03월            7198            6973\n",
       "3   04월            6820            6448\n",
       "4   05월            7767            6470\n",
       "5   06월            7275            7923\n",
       "6   07월            8164            8015\n",
       "7   08월            7807            7859\n",
       "8   09월            6811            7452\n",
       "9   10월            7222            6875\n",
       "10  11월            7592            7337\n",
       "11  12월            7298            6911"
      ]
     },
     "execution_count": 4,
     "metadata": {},
     "output_type": "execute_result"
    }
   ],
   "source": [
    "import pandas as pd\n",
    "df = pd.read_csv(file_name, encoding='cp949')\n",
    "df"
   ]
  }
 ],
 "metadata": {
  "kernelspec": {
   "display_name": "Python 3 (ipykernel)",
   "language": "python",
   "name": "python3"
  },
  "language_info": {
   "codemirror_mode": {
    "name": "ipython",
    "version": 3
   },
   "file_extension": ".py",
   "mimetype": "text/x-python",
   "name": "python",
   "nbconvert_exporter": "python",
   "pygments_lexer": "ipython3",
   "version": "3.11.5"
  }
 },
 "nbformat": 4,
 "nbformat_minor": 5
}
